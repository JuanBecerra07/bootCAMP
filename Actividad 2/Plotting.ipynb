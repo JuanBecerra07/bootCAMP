{
 "cells": [
  {
   "cell_type": "markdown",
   "metadata": {},
   "source": [
    "# Importing "
   ]
  },
  {
   "cell_type": "code",
   "execution_count": 1,
   "metadata": {},
   "outputs": [
    {
     "data": {
      "text/html": [
       "<div>\n",
       "<style scoped>\n",
       "    .dataframe tbody tr th:only-of-type {\n",
       "        vertical-align: middle;\n",
       "    }\n",
       "\n",
       "    .dataframe tbody tr th {\n",
       "        vertical-align: top;\n",
       "    }\n",
       "\n",
       "    .dataframe thead th {\n",
       "        text-align: right;\n",
       "    }\n",
       "</style>\n",
       "<table border=\"1\" class=\"dataframe\">\n",
       "  <thead>\n",
       "    <tr style=\"text-align: right;\">\n",
       "      <th></th>\n",
       "      <th>Name</th>\n",
       "      <th>Age</th>\n",
       "      <th>Gender</th>\n",
       "      <th>Blood Type</th>\n",
       "      <th>Medical Condition</th>\n",
       "      <th>Date of Admission</th>\n",
       "      <th>Doctor</th>\n",
       "      <th>Hospital</th>\n",
       "      <th>Insurance Provider</th>\n",
       "      <th>Billing Amount</th>\n",
       "      <th>Room Number</th>\n",
       "      <th>Admission Type</th>\n",
       "      <th>Discharge Date</th>\n",
       "      <th>Medication</th>\n",
       "      <th>Test Results</th>\n",
       "    </tr>\n",
       "  </thead>\n",
       "  <tbody>\n",
       "    <tr>\n",
       "      <th>0</th>\n",
       "      <td>Tiffany Ramirez</td>\n",
       "      <td>81</td>\n",
       "      <td>Female</td>\n",
       "      <td>O-</td>\n",
       "      <td>Diabetes</td>\n",
       "      <td>2022-11-17</td>\n",
       "      <td>Patrick Parker</td>\n",
       "      <td>Wallace-Hamilton</td>\n",
       "      <td>Medicare</td>\n",
       "      <td>37490.983364</td>\n",
       "      <td>146</td>\n",
       "      <td>Elective</td>\n",
       "      <td>2022-12-01</td>\n",
       "      <td>Aspirin</td>\n",
       "      <td>Inconclusive</td>\n",
       "    </tr>\n",
       "    <tr>\n",
       "      <th>1</th>\n",
       "      <td>Ruben Burns</td>\n",
       "      <td>35</td>\n",
       "      <td>Male</td>\n",
       "      <td>O+</td>\n",
       "      <td>Asthma</td>\n",
       "      <td>2023-06-01</td>\n",
       "      <td>Diane Jackson</td>\n",
       "      <td>Burke, Griffin and Cooper</td>\n",
       "      <td>UnitedHealthcare</td>\n",
       "      <td>47304.064845</td>\n",
       "      <td>404</td>\n",
       "      <td>Emergency</td>\n",
       "      <td>2023-06-15</td>\n",
       "      <td>Lipitor</td>\n",
       "      <td>Normal</td>\n",
       "    </tr>\n",
       "    <tr>\n",
       "      <th>2</th>\n",
       "      <td>Chad Byrd</td>\n",
       "      <td>61</td>\n",
       "      <td>Male</td>\n",
       "      <td>B-</td>\n",
       "      <td>Obesity</td>\n",
       "      <td>2019-01-09</td>\n",
       "      <td>Paul Baker</td>\n",
       "      <td>Walton LLC</td>\n",
       "      <td>Medicare</td>\n",
       "      <td>36874.896997</td>\n",
       "      <td>292</td>\n",
       "      <td>Emergency</td>\n",
       "      <td>2019-02-08</td>\n",
       "      <td>Lipitor</td>\n",
       "      <td>Normal</td>\n",
       "    </tr>\n",
       "    <tr>\n",
       "      <th>3</th>\n",
       "      <td>Antonio Frederick</td>\n",
       "      <td>49</td>\n",
       "      <td>Male</td>\n",
       "      <td>B-</td>\n",
       "      <td>Asthma</td>\n",
       "      <td>2020-05-02</td>\n",
       "      <td>Brian Chandler</td>\n",
       "      <td>Garcia Ltd</td>\n",
       "      <td>Medicare</td>\n",
       "      <td>23303.322092</td>\n",
       "      <td>480</td>\n",
       "      <td>Urgent</td>\n",
       "      <td>2020-05-03</td>\n",
       "      <td>Penicillin</td>\n",
       "      <td>Abnormal</td>\n",
       "    </tr>\n",
       "    <tr>\n",
       "      <th>4</th>\n",
       "      <td>Mrs. Brandy Flowers</td>\n",
       "      <td>51</td>\n",
       "      <td>Male</td>\n",
       "      <td>O-</td>\n",
       "      <td>Arthritis</td>\n",
       "      <td>2021-07-09</td>\n",
       "      <td>Dustin Griffin</td>\n",
       "      <td>Jones, Brown and Murray</td>\n",
       "      <td>UnitedHealthcare</td>\n",
       "      <td>18086.344184</td>\n",
       "      <td>477</td>\n",
       "      <td>Urgent</td>\n",
       "      <td>2021-08-02</td>\n",
       "      <td>Paracetamol</td>\n",
       "      <td>Normal</td>\n",
       "    </tr>\n",
       "    <tr>\n",
       "      <th>...</th>\n",
       "      <td>...</td>\n",
       "      <td>...</td>\n",
       "      <td>...</td>\n",
       "      <td>...</td>\n",
       "      <td>...</td>\n",
       "      <td>...</td>\n",
       "      <td>...</td>\n",
       "      <td>...</td>\n",
       "      <td>...</td>\n",
       "      <td>...</td>\n",
       "      <td>...</td>\n",
       "      <td>...</td>\n",
       "      <td>...</td>\n",
       "      <td>...</td>\n",
       "      <td>...</td>\n",
       "    </tr>\n",
       "    <tr>\n",
       "      <th>9995</th>\n",
       "      <td>James Hood</td>\n",
       "      <td>83</td>\n",
       "      <td>Male</td>\n",
       "      <td>A+</td>\n",
       "      <td>Obesity</td>\n",
       "      <td>2022-07-29</td>\n",
       "      <td>Samuel Moody</td>\n",
       "      <td>Wood, Martin and Simmons</td>\n",
       "      <td>UnitedHealthcare</td>\n",
       "      <td>39606.840083</td>\n",
       "      <td>110</td>\n",
       "      <td>Elective</td>\n",
       "      <td>2022-08-02</td>\n",
       "      <td>Ibuprofen</td>\n",
       "      <td>Abnormal</td>\n",
       "    </tr>\n",
       "    <tr>\n",
       "      <th>9996</th>\n",
       "      <td>Stephanie Evans</td>\n",
       "      <td>47</td>\n",
       "      <td>Female</td>\n",
       "      <td>AB+</td>\n",
       "      <td>Arthritis</td>\n",
       "      <td>2022-01-06</td>\n",
       "      <td>Christopher Yates</td>\n",
       "      <td>Nash-Krueger</td>\n",
       "      <td>Blue Cross</td>\n",
       "      <td>5995.717488</td>\n",
       "      <td>244</td>\n",
       "      <td>Emergency</td>\n",
       "      <td>2022-01-29</td>\n",
       "      <td>Ibuprofen</td>\n",
       "      <td>Normal</td>\n",
       "    </tr>\n",
       "    <tr>\n",
       "      <th>9997</th>\n",
       "      <td>Christopher Martinez</td>\n",
       "      <td>54</td>\n",
       "      <td>Male</td>\n",
       "      <td>B-</td>\n",
       "      <td>Arthritis</td>\n",
       "      <td>2022-07-01</td>\n",
       "      <td>Robert Nicholson</td>\n",
       "      <td>Larson and Sons</td>\n",
       "      <td>Blue Cross</td>\n",
       "      <td>49559.202905</td>\n",
       "      <td>312</td>\n",
       "      <td>Elective</td>\n",
       "      <td>2022-07-15</td>\n",
       "      <td>Ibuprofen</td>\n",
       "      <td>Normal</td>\n",
       "    </tr>\n",
       "    <tr>\n",
       "      <th>9998</th>\n",
       "      <td>Amanda Duke</td>\n",
       "      <td>84</td>\n",
       "      <td>Male</td>\n",
       "      <td>A+</td>\n",
       "      <td>Arthritis</td>\n",
       "      <td>2020-02-06</td>\n",
       "      <td>Jamie Lewis</td>\n",
       "      <td>Wilson-Lyons</td>\n",
       "      <td>UnitedHealthcare</td>\n",
       "      <td>25236.344761</td>\n",
       "      <td>420</td>\n",
       "      <td>Urgent</td>\n",
       "      <td>2020-02-26</td>\n",
       "      <td>Penicillin</td>\n",
       "      <td>Normal</td>\n",
       "    </tr>\n",
       "    <tr>\n",
       "      <th>9999</th>\n",
       "      <td>Eric King</td>\n",
       "      <td>20</td>\n",
       "      <td>Male</td>\n",
       "      <td>B-</td>\n",
       "      <td>Arthritis</td>\n",
       "      <td>2023-03-22</td>\n",
       "      <td>Tasha Avila</td>\n",
       "      <td>Torres, Young and Stewart</td>\n",
       "      <td>Aetna</td>\n",
       "      <td>37223.965865</td>\n",
       "      <td>290</td>\n",
       "      <td>Emergency</td>\n",
       "      <td>2023-04-15</td>\n",
       "      <td>Penicillin</td>\n",
       "      <td>Abnormal</td>\n",
       "    </tr>\n",
       "  </tbody>\n",
       "</table>\n",
       "<p>10000 rows × 15 columns</p>\n",
       "</div>"
      ],
      "text/plain": [
       "                      Name  Age  Gender Blood Type Medical Condition  \\\n",
       "0          Tiffany Ramirez   81  Female         O-          Diabetes   \n",
       "1              Ruben Burns   35    Male         O+            Asthma   \n",
       "2                Chad Byrd   61    Male         B-           Obesity   \n",
       "3        Antonio Frederick   49    Male         B-            Asthma   \n",
       "4      Mrs. Brandy Flowers   51    Male         O-         Arthritis   \n",
       "...                    ...  ...     ...        ...               ...   \n",
       "9995            James Hood   83    Male         A+           Obesity   \n",
       "9996       Stephanie Evans   47  Female        AB+         Arthritis   \n",
       "9997  Christopher Martinez   54    Male         B-         Arthritis   \n",
       "9998           Amanda Duke   84    Male         A+         Arthritis   \n",
       "9999             Eric King   20    Male         B-         Arthritis   \n",
       "\n",
       "     Date of Admission             Doctor                   Hospital  \\\n",
       "0           2022-11-17     Patrick Parker           Wallace-Hamilton   \n",
       "1           2023-06-01      Diane Jackson  Burke, Griffin and Cooper   \n",
       "2           2019-01-09         Paul Baker                 Walton LLC   \n",
       "3           2020-05-02     Brian Chandler                 Garcia Ltd   \n",
       "4           2021-07-09     Dustin Griffin    Jones, Brown and Murray   \n",
       "...                ...                ...                        ...   \n",
       "9995        2022-07-29       Samuel Moody   Wood, Martin and Simmons   \n",
       "9996        2022-01-06  Christopher Yates               Nash-Krueger   \n",
       "9997        2022-07-01   Robert Nicholson            Larson and Sons   \n",
       "9998        2020-02-06        Jamie Lewis               Wilson-Lyons   \n",
       "9999        2023-03-22        Tasha Avila  Torres, Young and Stewart   \n",
       "\n",
       "     Insurance Provider  Billing Amount  Room Number Admission Type  \\\n",
       "0              Medicare    37490.983364          146       Elective   \n",
       "1      UnitedHealthcare    47304.064845          404      Emergency   \n",
       "2              Medicare    36874.896997          292      Emergency   \n",
       "3              Medicare    23303.322092          480         Urgent   \n",
       "4      UnitedHealthcare    18086.344184          477         Urgent   \n",
       "...                 ...             ...          ...            ...   \n",
       "9995   UnitedHealthcare    39606.840083          110       Elective   \n",
       "9996         Blue Cross     5995.717488          244      Emergency   \n",
       "9997         Blue Cross    49559.202905          312       Elective   \n",
       "9998   UnitedHealthcare    25236.344761          420         Urgent   \n",
       "9999              Aetna    37223.965865          290      Emergency   \n",
       "\n",
       "     Discharge Date   Medication  Test Results  \n",
       "0        2022-12-01      Aspirin  Inconclusive  \n",
       "1        2023-06-15      Lipitor        Normal  \n",
       "2        2019-02-08      Lipitor        Normal  \n",
       "3        2020-05-03   Penicillin      Abnormal  \n",
       "4        2021-08-02  Paracetamol        Normal  \n",
       "...             ...          ...           ...  \n",
       "9995     2022-08-02    Ibuprofen      Abnormal  \n",
       "9996     2022-01-29    Ibuprofen        Normal  \n",
       "9997     2022-07-15    Ibuprofen        Normal  \n",
       "9998     2020-02-26   Penicillin        Normal  \n",
       "9999     2023-04-15   Penicillin      Abnormal  \n",
       "\n",
       "[10000 rows x 15 columns]"
      ]
     },
     "execution_count": 1,
     "metadata": {},
     "output_type": "execute_result"
    }
   ],
   "source": [
    "import pandas as pd \n",
    "import matplotlib.pyplot as plt\n",
    "import numpy as np\n",
    "import os\n",
    "import seaborn as sns \n",
    "\n",
    "## Selecting Url to work with \n",
    "url=\"https://raw.githubusercontent.com/JuanBecerra07/bootCAMP-DS_JUAN-BECERRA-/main/Actividad%201/healthcare_dataset.csv\"\n",
    "df=pd.read_csv(url,sep=',',encoding='utf-8')\n",
    "df"
   ]
  },
  {
   "cell_type": "markdown",
   "metadata": {},
   "source": [
    "# =Columns to work with"
   ]
  },
  {
   "cell_type": "code",
   "execution_count": 29,
   "metadata": {},
   "outputs": [
    {
     "data": {
      "text/plain": [
       "Index(['Name', 'Age', 'Gender', 'Blood Type', 'Medical Condition',\n",
       "       'Date of Admission', 'Doctor', 'Hospital', 'Insurance Provider',\n",
       "       'Billing Amount', 'Room Number', 'Admission Type', 'Discharge Date',\n",
       "       'Medication', 'Test Results'],\n",
       "      dtype='object')"
      ]
     },
     "execution_count": 29,
     "metadata": {},
     "output_type": "execute_result"
    }
   ],
   "source": [
    "df.columns\n"
   ]
  },
  {
   "cell_type": "markdown",
   "metadata": {},
   "source": [
    "# Checking for nulls ans check the shape of the df \n"
   ]
  },
  {
   "cell_type": "code",
   "execution_count": 12,
   "metadata": {},
   "outputs": [
    {
     "data": {
      "text/plain": [
       "Name                  0\n",
       "Age                   0\n",
       "Gender                0\n",
       "Blood Type            0\n",
       "Medical Condition     0\n",
       "Date of Admission     0\n",
       "Doctor                0\n",
       "Hospital              0\n",
       "Insurance Provider    0\n",
       "Billing Amount        0\n",
       "Room Number           0\n",
       "Admission Type        0\n",
       "Discharge Date        0\n",
       "Medication            0\n",
       "Test Results          0\n",
       "dtype: int64"
      ]
     },
     "execution_count": 12,
     "metadata": {},
     "output_type": "execute_result"
    }
   ],
   "source": [
    "df.isnull().sum()"
   ]
  },
  {
   "cell_type": "code",
   "execution_count": 13,
   "metadata": {},
   "outputs": [
    {
     "data": {
      "text/plain": [
       "(10000, 15)"
      ]
     },
     "execution_count": 13,
     "metadata": {},
     "output_type": "execute_result"
    }
   ],
   "source": [
    "df.shape"
   ]
  },
  {
   "cell_type": "markdown",
   "metadata": {},
   "source": [
    "# Playing with the values "
   ]
  },
  {
   "cell_type": "code",
   "execution_count": 20,
   "metadata": {},
   "outputs": [
    {
     "data": {
      "text/plain": [
       "Blood Type\n",
       "AB-    1275\n",
       "AB+    1258\n",
       "B-     1252\n",
       "O+     1248\n",
       "O-     1244\n",
       "B+     1244\n",
       "A+     1241\n",
       "A-     1238\n",
       "Name: count, dtype: int64"
      ]
     },
     "execution_count": 20,
     "metadata": {},
     "output_type": "execute_result"
    }
   ],
   "source": [
    "Bt=df['Blood Type']\n",
    "Bt.value_counts()"
   ]
  },
  {
   "cell_type": "code",
   "execution_count": 52,
   "metadata": {},
   "outputs": [
    {
     "data": {
      "text/plain": [
       "<Axes: xlabel='Blood Type', ylabel='count'>"
      ]
     },
     "execution_count": 52,
     "metadata": {},
     "output_type": "execute_result"
    },
    {
     "data": {
      "image/png": "[encoded data removed]",
      "text/plain": [
       "<Figure size 640x480 with 1 Axes>"
      ]
     },
     "metadata": {},
     "output_type": "display_data"
    }
   ],
   "source": [
    "blood = df['Blood Type'].value_counts()\n",
    "sns.barplot(blood)\n",
    "sns.barplot(x=blood.index , y= blood.values)\n"
   ]
  },
  {
   "cell_type": "code",
   "execution_count": 78,
   "metadata": {},
   "outputs": [
    {
     "data": {
      "text/plain": [
       "<Axes: xlabel='Gender', ylabel='count'>"
      ]
     },
     "execution_count": 78,
     "metadata": {},
     "output_type": "execute_result"
    },
    {
     "data": {
      "image/png": "[encoded data removed]",
      "text/plain": [
       "<Figure size 640x480 with 1 Axes>"
      ]
     },
     "metadata": {},
     "output_type": "display_data"
    }
   ],
   "source": [
    "Gender =df['Gender'].value_counts()\n",
    "sns.barplot(Gender)\n",
    "sns.barplot(x=Gender.index , y = Gender.values)"
   ]
  },
  {
   "cell_type": "code",
   "execution_count": 51,
   "metadata": {},
   "outputs": [
    {
     "data": {
      "text/plain": [
       "Name                 Age  Gender  Blood Type  Medical Condition  Date of Admission  Doctor             Hospital                     Insurance Provider  Billing Amount  Room Number  Admission Type  Discharge Date  Medication  Test Results\n",
       "Aaron Jones          18   Male    A-          Asthma             2023-03-09         Christy Williams   Reynolds, Carter and Wilson  Medicare            42072.023738    298          Emergency       2023-03-18      Lipitor     Normal          1\n",
       "Mitchell Ruiz        19   Male    AB-         Asthma             2021-09-17         Andrew Johnson IV  Garcia PLC                   Aetna               31955.170733    121          Urgent          2021-09-19      Penicillin  Inconclusive    1\n",
       "Michael Bradley      24   Male    A-          Asthma             2022-10-13         Isabella Coleman   Warren-Bentley               Blue Cross          8845.568431     277          Urgent          2022-10-29      Ibuprofen   Abnormal        1\n",
       "Michael Garza        19   Male    O+          Asthma             2021-07-21         Melinda Rice       Marshall, Dunn and Robinson  Cigna               16323.827521    125          Urgent          2021-08-14      Aspirin     Inconclusive    1\n",
       "Michael Hamilton     18   Female  AB-         Asthma             2019-12-26         Robert Dorsey      Johnson, Anderson and Moss   Medicare            27050.273412    104          Urgent          2020-01-22      Penicillin  Inconclusive    1\n",
       "                                                                                                                                                                                                                                                ..\n",
       "Erin Patel           18   Male    A-          Asthma             2020-01-21         Kathleen Aguilar   Booth-Jones                  Aetna               6777.181086     418          Urgent          2020-01-24      Aspirin     Normal          1\n",
       "Frederick Rodriguez  24   Female  A+          Asthma             2021-06-27         Nathan Livingston  Anthony Ltd                  Medicare            17191.557075    405          Emergency       2021-07-23      Lipitor     Normal          1\n",
       "Gina Peters          19   Female  B+          Asthma             2021-11-30         Adriana Butler     Garcia-Howard                Medicare            17758.482865    464          Urgent          2021-12-23      Lipitor     Inconclusive    1\n",
       "Gloria Larson        20   Male    B+          Asthma             2020-07-14         Kevin Bailey       Berg Ltd                     Medicare            44042.337115    422          Elective        2020-07-22      Ibuprofen   Abnormal        1\n",
       "Zachary Murphy       24   Male    O-          Asthma             2021-10-06         Beth Lopez DDS     Wells Ltd                    Cigna               1837.096088     164          Elective        2021-11-03      Penicillin  Normal          1\n",
       "Name: count, Length: 172, dtype: int64"
      ]
     },
     "execution_count": 51,
     "metadata": {},
     "output_type": "execute_result"
    }
   ],
   "source": [
    "ill = df[(df['Medical Condition']=='Asthma')&(df['Age']<25) ]\n",
    "ill.value_counts()\n",
    "##filtro=tabla[(tabla['Nom_Territorio']=='CAQUETA') & (tabla['Cantidad']>300)]"
   ]
  },
  {
   "cell_type": "code",
   "execution_count": 77,
   "metadata": {},
   "outputs": [
    {
     "data": {
      "text/plain": [
       "<Axes: xlabel='Gender', ylabel='Age'>"
      ]
     },
     "execution_count": 77,
     "metadata": {},
     "output_type": "execute_result"
    },
    {
     "data": {
      "image/png": "[encoded data removed]",
      "text/plain": [
       "<Figure size 640x480 with 1 Axes>"
      ]
     },
     "metadata": {},
     "output_type": "display_data"
    }
   ],
   "source": [
    "ill_asma = df[df['Medical Condition']== 'Asthma']\n",
    "##ill_asma = df['Age']\n",
    "##ill_asma.value_counts()\n",
    "ill_asma\n",
    "asma =df[['Blood Type','Gender','Age']]\n",
    "sns.boxplot(data = asma ,x= 'Gender',y= 'Age', hue = 'Blood Type', showfliers = False )\n",
    "\n",
    "\n"
   ]
  },
  {
   "cell_type": "code",
   "execution_count": null,
   "metadata": {},
   "outputs": [],
   "source": [
    "Billing =df[df['']]"
   ]
  }
 ],
 "metadata": {
  "kernelspec": {
   "display_name": "Python 3",
   "language": "python",
   "name": "python3"
  },
  "language_info": {
   "codemirror_mode": {
    "name": "ipython",
    "version": 3
   },
   "file_extension": ".py",
   "mimetype": "text/x-python",
   "name": "python",
   "nbconvert_exporter": "python",
   "pygments_lexer": "ipython3",
   "version": "3.10.13"
  }
 },
 "nbformat": 4,
 "nbformat_minor": 2
}
