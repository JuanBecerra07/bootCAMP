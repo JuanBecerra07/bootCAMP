{
 "cells": [
  {
   "cell_type": "markdown",
   "metadata": {},
   "source": [
    "## Contexto de negocio \n",
    "Es analista de datos en una gran empresa de servicios financieros que vende una cartera diversa de productos. Para realizar estas ventas, la firma cuenta con un centro de llamadas donde los agentes de ventas hacen llamadas tanto a los clientes actuales como a los potenciales. A la empresa le gustaría que se sumergiera en sus datos para diseñar estrategias para aumentar sus ingresos o reducir sus costos. Específicamente, les gustaría duplicar sus clientes más confiables y eliminar a los agentes de ventas que no están produciendo resultados."
   ]
  },
  {
   "cell_type": "markdown",
   "metadata": {},
   "source": [
    "## Problema de negocio. \n",
    "La empresa desea responder a las siguientes preguntas: \"¿Qué tipo de clientes son más probable que compren nuestro producto? ¿Y cuáles de mis agentes de ventas son los más/menos productivos?"
   ]
  },
  {
   "cell_type": "code",
   "execution_count": 6,
   "metadata": {},
   "outputs": [
    {
     "name": "stdout",
     "output_type": "stream",
     "text": [
      "Note: you may need to restart the kernel to use updated packages.\n",
      "Name: SQLAlchemy\n",
      "Version: 2.0.29\n",
      "Summary: Database Abstraction Library\n",
      "Home-page: https://www.sqlalchemy.org\n",
      "Author: Mike Bayer\n",
      "Author-email: mike_mp@zzzcomputing.com\n",
      "License: MIT\n",
      "Location: /usr/local/python/3.10.13/lib/python3.10/site-packages\n",
      "Requires: greenlet, typing-extensions\n",
      "Required-by: \n",
      "Note: you may need to restart the kernel to use updated packages.\n"
     ]
    }
   ],
   "source": [
    "\"\"\"\n",
    "Instalar todo lo necesarios como:\n",
    "sqlalchemy\n",
    "engine sql \n",
    "pandas \n",
    "\"\"\"\n",
    "%pip install -q sqlalchemy\n",
    "%pip show sqlalchemy\n",
    "\n",
    "import os \n",
    "os.getcwd()\n",
    "\n",
    "import pandas as pd \n",
    "from  sqlalchemy import create_engine, text \n",
    "pd.options.display.max_rows = 100\n",
    "ruta=\"./\"\n",
    "\n",
    "\n"
   ]
  },
  {
   "cell_type": "markdown",
   "metadata": {},
   "source": [
    "# Preparando el espacio de trabajo"
   ]
  },
  {
   "cell_type": "code",
   "execution_count": 37,
   "metadata": {},
   "outputs": [
    {
     "name": "stdout",
     "output_type": "stream",
     "text": [
      "Engine(sqlite://)\n"
     ]
    }
   ],
   "source": [
    "\"\"\"\n",
    "Crear el motor sql para el manejo de la base de datos \n",
    "#engine = \"sqlite:///mydatabase.db\" # /// apunta hacia una ruta especifica\n",
    "#engine=create_engine('sqlite://david_database.db') #indica que se está utilizando el motor de base de datos SQLite.\n",
    "\"\"\"\n",
    "engine = create_engine('sqlite://')  ##indica que se está utilizando el motor de base de datos SQLite.\"\n",
    "print(engine)\n",
    "\n",
    "\"\"\"\n",
    "Aqui vamos a traer todas las tablas datos que necesitamos para enviarlas al SQL , la manda a una conection de base de datos que tengas abierta,\n",
    "pide el nombre que quieres que tenga, el moptor al cual la enias y el index es solo para ver si quieres el num de las filas a la izquierda del cuadro general \n",
    "\"\"\"\n",
    "df = pd.read_csv('customers.csv').to_sql('customer', engine, if_exists='replace', index=False)\n",
    "df = pd.read_csv('agents.csv').to_sql('agent', engine, if_exists='replace', index=False)\n",
    "df = pd.read_csv('calls.csv').to_sql('call', engine, if_exists='replace', index=False)\n",
    "\n",
    "\"\"\"\n",
    "Usamos el def run query(SQL)\n",
    "para poder conectar todas las bases de datos que tenemos ademas de con fetchall agarramos todas las filas disponibles , luedo le asignamos las columns \n",
    "\"\"\"\n",
    "\n",
    "def runQuery(sql):\n",
    "    result = engine.connect().execute((text(sql)))\n",
    "    return pd.DataFrame(result.fetchall(), columns=result.keys())"
   ]
  },
  {
   "cell_type": "markdown",
   "metadata": {},
   "source": [
    "# Hello SQL con python"
   ]
  },
  {
   "cell_type": "code",
   "execution_count": null,
   "metadata": {},
   "outputs": [],
   "source": [
    "query_test = \"\"\" \n",
    "SELECT Name\n",
    "FROM agent\n",
    "Where Name LIKE '%A%'\n",
    "\n",
    "\"\"\"\n",
    "runQuery(query_test)\n",
    "\n"
   ]
  }
 ],
 "metadata": {
  "kernelspec": {
   "display_name": "Python 3",
   "language": "python",
   "name": "python3"
  },
  "language_info": {
   "codemirror_mode": {
    "name": "ipython",
    "version": 3
   },
   "file_extension": ".py",
   "mimetype": "text/x-python",
   "name": "python",
   "nbconvert_exporter": "python",
   "pygments_lexer": "ipython3",
   "version": "3.10.13"
  }
 },
 "nbformat": 4,
 "nbformat_minor": 2
}
